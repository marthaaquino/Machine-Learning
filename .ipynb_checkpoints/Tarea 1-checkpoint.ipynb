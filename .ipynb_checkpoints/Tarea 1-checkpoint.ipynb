{
 "cells": [
  {
   "cell_type": "markdown",
   "metadata": {},
   "source": [
    "<div class=\"alert alert-info\" role=\"alert\">\n",
    " <p class =\"lead\"> \n",
    " <h1>Machine Learning para físicos </h1>\n",
    " <h2>Tarea 1</h2>\n",
    " <h3>Autor: Aquino Chapa Martha Abril<h3>\n",
    " </div>\n"
   ]
  },
  {
   "cell_type": "code",
   "execution_count": 1,
   "metadata": {},
   "outputs": [],
   "source": [
    "import random\n",
    "import numpy as np\n",
    "import string"
   ]
  },
  {
   "cell_type": "markdown",
   "metadata": {},
   "source": [
    "### 1. Escribe una función que reciba una lista de números y determine si todos sus elementos son diferentes entre si."
   ]
  },
  {
   "cell_type": "code",
   "execution_count": null,
   "metadata": {},
   "outputs": [],
   "source": [
    "def Lista_repeticion(lista):\n",
    "    numero=0\n",
    "    for i in lista:\n",
    "        numero+=(lista.count(i)-1)\n",
    "    if numero==0:\n",
    "        print(\"Todos los elementos son diferentes\")\n",
    "    if numero!=0:\n",
    "        print(\"Hay elementos repetidos\")"
   ]
  },
  {
   "cell_type": "code",
   "execution_count": null,
   "metadata": {},
   "outputs": [],
   "source": [
    "## Pruebas de la función:\n",
    "Lista1_prueba_1=[1,2,3,4,5]\n",
    "Lista_repeticion(Lista1_prueba_1)"
   ]
  },
  {
   "cell_type": "code",
   "execution_count": null,
   "metadata": {},
   "outputs": [],
   "source": [
    "## Pruebas de la función:\n",
    "Lista2_prueba_1=[1,1,1,4,5]\n",
    "Lista_repeticion(Lista2_prueba_1)\n",
    "\n",
    "#ok"
   ]
  },
  {
   "cell_type": "markdown",
   "metadata": {},
   "source": [
    "### 2. Listas y diccionarios por comprensión.\n",
    "\n",
    "#### Escribe una función que reciba una cadena y regrese una lista que contenga sólo los caracteres numéricos incluidos en la cadena. Para este ejercicio debes usar listas por comprensión."
   ]
  },
  {
   "cell_type": "code",
   "execution_count": null,
   "metadata": {},
   "outputs": [],
   "source": [
    "def cadena_numerica(cadena):\n",
    "    numeros = [int(elemento)for elemento in cadena.split() if elemento.isdigit()]\n",
    "    return(numeros)"
   ]
  },
  {
   "cell_type": "code",
   "execution_count": null,
   "metadata": {},
   "outputs": [],
   "source": [
    "#Probamos la función\n",
    "cadena_numerica(\"hola 2  6\")"
   ]
  },
  {
   "cell_type": "code",
   "execution_count": null,
   "metadata": {},
   "outputs": [],
   "source": [
    "#Probamos la función\n",
    "cadena_numerica(\"Mi nombre es Martha y tengo 22 años, y es el año 2022 del mes 02\")"
   ]
  },
  {
   "cell_type": "markdown",
   "metadata": {},
   "source": [
    "### Escribe una función que reciba una cadena que almacena una oración y regrese un diccionario por comprensión que contenga cada palabra de la oración como llave y la longitud de dicha palabra como valor."
   ]
  },
  {
   "cell_type": "code",
   "execution_count": null,
   "metadata": {},
   "outputs": [],
   "source": [
    "def cadena_diccionario(cadena):\n",
    "    cadena_cortada=cadena.split()\n",
    "    for i in cadena_cortada:\n",
    "        if i.isdigit():\n",
    "            cadena_cortada.remove(i)\n",
    "    diccionario = {elemento : len(elemento) for elemento in cadena_cortada}\n",
    "    return(diccionario)"
   ]
  },
  {
   "cell_type": "code",
   "execution_count": null,
   "metadata": {},
   "outputs": [],
   "source": [
    "print(cadena_diccionario(\"Hola me llamo Martha y tengo 22 años\"))"
   ]
  },
  {
   "cell_type": "code",
   "execution_count": null,
   "metadata": {},
   "outputs": [],
   "source": [
    "print(cadena_diccionario(\"Hola me llamo Martha y tengo 22 años y nací el 29 de mayo del 99\"))"
   ]
  },
  {
   "cell_type": "markdown",
   "metadata": {},
   "source": [
    "## 3. Escribe una función que reciba el archivo de texto temperaturas.txt, el cual contiene un conjunto de datos que representan temperaturas. La función deberá regresar un diccionario con los siguientes datos:\n",
    "\n",
    "- La temperatura máxima.\n",
    "- La temperatura mínima.\n",
    "- La temperatura promedio.\n",
    "- La mediana de las temperaturas.\n",
    "\n",
    "El diccionario resultado debe tener la siguiente forma: { ’maximo’: 35, ’minimo’:\n",
    "15, ’promedio’: 25, ’mediana’: 28 }.\n",
    "\n",
    "Nota: Los valores mostrados son sólo ilustrativos, no necesariamente son los valores\n",
    "correctos."
   ]
  },
  {
   "cell_type": "code",
   "execution_count": null,
   "metadata": {},
   "outputs": [],
   "source": [
    "#FALTA VER COMO ANEXAR EL ARCHIVO COMO UNA VARIABLE #########################\n",
    "#archivo = \"archivo.txt\"\n",
    "def temperaturas(archivo):\n",
    "    t_max=max(archivo)\n",
    "    t_min=min(archivo)\n",
    "    t_prom = sum(archivo)/len(archivo)\n",
    "    \n",
    "    #Creamos un ciclo para medir la mediana\n",
    "    m =(len(archivo)/2)\n",
    "    #Acomodamos los elementos de menor a mayor\n",
    "    archivo_acomodado = sorted(archivo)\n",
    "    if len(archivo) % 2 !=0:\n",
    "        media = archivo_acomodado[int(m)]\n",
    "    media = (archivo_acomodado[int(m)-1]+archivo_acomodado[int(m)])/2\n",
    "        \n",
    "    return[t_max,t_min,t_prom,media]"
   ]
  },
  {
   "cell_type": "code",
   "execution_count": null,
   "metadata": {},
   "outputs": [],
   "source": [
    "temperaturas([1,2,3,4,5,6,7,8,9,3,2])"
   ]
  },
  {
   "cell_type": "markdown",
   "metadata": {},
   "source": [
    "## 4. Implementa la fórmula de la desviación estándar en una función de Python:\n",
    "\n",
    "$$DE=\\sqrt{\\frac{\\sum_{}^{} |x-\\mu|^2}{N}}$$\n",
    "\n",
    "Donde:\n",
    "\n",
    "- x es un elemento del conjunto.\n",
    "- $\\mu$ es la media del conjunto de datos.\n",
    "- $N$ es el número total de datos.\n",
    "- La función recibe una lista de datos numéricos y regresa la desviación estándar de los datos."
   ]
  },
  {
   "cell_type": "code",
   "execution_count": null,
   "metadata": {},
   "outputs": [],
   "source": [
    "def desviacion_estandar(conjunto):\n",
    "    #Primero calculamos la media\n",
    "    media = sum(conjunto)/len(conjunto)\n",
    "    suma = 0\n",
    "    for i in conjunto:\n",
    "        suma +=(i-media)**2\n",
    "    desviacion = (suma/len(conjunto))**(1/2)\n",
    "    return desviacion\n",
    "    "
   ]
  },
  {
   "cell_type": "code",
   "execution_count": null,
   "metadata": {},
   "outputs": [],
   "source": [
    "#Comparando la lista con el valor dado a partir la función std de numpy\n",
    "lista_prueba = [1,2,3,4,52,3,1,2,5,2,4]\n",
    "print(desviacion_estandar(lista_prueba)-np.std(lista_prueba))\n",
    "#La diferencia es 0, por lo que la función realizada corresponde con el valor dado por una función de python"
   ]
  },
  {
   "cell_type": "markdown",
   "metadata": {},
   "source": [
    "# 5. El teorema del mono infinito afirma que si un mono presiona al azar teclas de un teclado de alguna computadora durante un tiempo infinito, en algún momento podrá escribir cualquier texto dado. El texto que trataremos de generar a partir de la simulación es el siguiente: \"methinks it is like a weasel\". La simulación se divide en tres pequeñas funciones:"
   ]
  },
  {
   "cell_type": "markdown",
   "metadata": {},
   "source": [
    "- Escribe una función que genere cadenas pseudoaleatorias de longitud igual a la longitud de la cadena dada."
   ]
  },
  {
   "cell_type": "code",
   "execution_count": null,
   "metadata": {},
   "outputs": [],
   "source": [
    "def cadena_aleatoria(n):\n",
    "    #Se deben anexar más caracteres\n",
    "    caracteres_especiales = str('*/|+$%')\n",
    "    #string.ascii_letter incluye las letras mayusculas y minusculas en el abecedario inglés\n",
    "    #string.digits los digitos\n",
    "    #string.punctuation  los carácteres especiales: !\"#$%&'()*+,-./:;<=>?@[\\]^_`{|}~.\n",
    "    #string.whitespace espacio\n",
    "    #string.printable los elementos que se puedan escrbir\n",
    "    cadena=random.sample(string.printable, n)\n",
    "    return ''.join(cadena)"
   ]
  },
  {
   "cell_type": "code",
   "execution_count": null,
   "metadata": {},
   "outputs": [],
   "source": [
    "#Probando la función\n",
    "cadena_aleatoria(10)"
   ]
  },
  {
   "cell_type": "markdown",
   "metadata": {},
   "source": [
    "- Escribe una función que cuente las coincidencias de caracteres entre la cadena generada y la cadena dada. "
   ]
  },
  {
   "cell_type": "code",
   "execution_count": null,
   "metadata": {},
   "outputs": [],
   "source": [
    "def contar_coincidencias(cadena_dada1,cadena_generada1):\n",
    "    #Dividimos las cadenas en listas para comparar los elementos\n",
    "    cadena_dada = list(cadena_dada1)\n",
    "    cadena_generada = list(cadena_generada1)\n",
    "    #Variable donde se guardan el número de coincidencia\n",
    "    numero=0\n",
    "    #realizamos un ciclo que compare el i-ésimo elemento de la cadena dada con el j-+esimo elemento\n",
    "    #de la cadena generada\n",
    "    for i in cadena_dada:\n",
    "        for j in cadena_generada:\n",
    "            #Si los elementos son iguales que sume un elemento al número de coincidencias\n",
    "            if i==j:\n",
    "                numero+=1\n",
    "    #nos regrese el número de coincidencias\n",
    "    return numero"
   ]
  },
  {
   "cell_type": "code",
   "execution_count": null,
   "metadata": {},
   "outputs": [],
   "source": [
    "#Probamos la función\n",
    "print(contar_coincidencias(\"Adjicke2414*\",\"ri'50967ooep\"))"
   ]
  },
  {
   "cell_type": "code",
   "execution_count": null,
   "metadata": {},
   "outputs": [],
   "source": [
    "print(contar_coincidencias(\"AAAAABB*\",\"3+\"))"
   ]
  },
  {
   "cell_type": "markdown",
   "metadata": {},
   "source": [
    "- Escribe una función que de forma iterativa obtenga una cadena pseudoaleatoria, calcule las coincidencias de caracteres y termine si la dicha coincidencia es completa, es decir si se generó la cadena esperada. Al final del ciclo iterativo debe imprimir el mayor número de coincidencias y la cadena que lo generó."
   ]
  },
  {
   "cell_type": "code",
   "execution_count": null,
   "metadata": {},
   "outputs": [],
   "source": [
    "def contar_coincidencias_ordenadas(cadena_dada1,cadena_generada1):\n",
    "     #Dividimos las cadenas en listas para comparar los elementos\n",
    "    cadena_dada = list(cadena_dada1)\n",
    "    cadena_generada = list(cadena_generada1)\n",
    "    #Variable donde se guardan el número de coincidencia\n",
    "    numero=0\n",
    "    #realizamos un ciclo que compare el i-ésimo elemento de la cadena dada con el j-+esimo elemento\n",
    "    #de la cadena generada\n",
    "    for i in range(0,len(cadena_dada)):\n",
    "        if cadena_dada[i]==cadena_generada[i]:\n",
    "            numero+=1\n",
    "    #nos regrese el número de coincidencias\n",
    "    return numero"
   ]
  },
  {
   "cell_type": "code",
   "execution_count": null,
   "metadata": {},
   "outputs": [],
   "source": [
    "def generar_coincidencias(cadena_dada1):\n",
    "    cadena_dada = list(cadena_dada1)\n",
    "    coincidencias = 0\n",
    "    \n",
    "    while coincidencias != len(cadena_dada):\n",
    "        cadena_generada1 = cadena_aleatoria(len(cadena_dada))\n",
    "        cadena_generada = list(cadena_generada1)\n",
    "        coincidencias = contar_coincidencias_ordenadas(cadena_dada,cadena_generada)\n",
    "    else:\n",
    "        return (coincidencias,cadena_generada1)\n",
    "    \n",
    "    #return (coincidencias,cadena_generada1)\n",
    "    "
   ]
  },
  {
   "cell_type": "code",
   "execution_count": null,
   "metadata": {},
   "outputs": [],
   "source": [
    "generar_coincidencias(\"2aa\")"
   ]
  },
  {
   "cell_type": "markdown",
   "metadata": {},
   "source": [
    "## 6. Un número estrobogramático, es un número que es rotacionalmente simétrico, de modo que se ve igual cuando se gira 180 grados. Por ejemplo: 69, 96, 1001, etc. Los números 69 y 96 tienen dos dígitos, por lo que diremos que son números estrobogramáticos de longitud dos y el 1001 es de longitud cuatro. Escribe una función que calcule los números estrobogramáticos de longitud n. La función debe recibir como argumento la variable n y debe de regresar una lista con todos los números estrobogramáticos de longitud n.\n",
    "Hint: Usa recursión con la longitud de los números."
   ]
  },
  {
   "cell_type": "markdown",
   "metadata": {},
   "source": [
    "### 7. Simular el lanzamiento de un dado para calcular la probabilidad frecuencial. \n",
    "\n",
    "- Escribe una función que simule el experimento de lanzar un dado, los posibles valores a obtener son: 1,2,3,4,5 o 6."
   ]
  },
  {
   "cell_type": "code",
   "execution_count": null,
   "metadata": {},
   "outputs": [],
   "source": [
    "def valor_dado():\n",
    "    return random.randint(1, 6)"
   ]
  },
  {
   "cell_type": "code",
   "execution_count": null,
   "metadata": {},
   "outputs": [],
   "source": [
    "##Probando la función\n",
    "valor_dado()"
   ]
  },
  {
   "cell_type": "markdown",
   "metadata": {},
   "source": [
    "- Escribe una función que realice n simulaciones del lanzamiento de un dado y compruebe experimentalmente que el número de veces que aparece una de las caras entre el total de lanzamientos (n) se aproxima a 1/6 conforme n crece. La función debe generar un archivo de texto donde cada renglón contenga los datos de cada lanzamiento. Los datos a escribir son: número de simulación, resultado obtenido y los cocientes $n_c/i$, donde $n_c$ es la cantidad de veces cayó la cara $c \\in \\{1, 2, 3, 4, 5, 6\\}$ e $i$ es la cantidad de lanzamientos realizados hasta el momento. "
   ]
  },
  {
   "cell_type": "code",
   "execution_count": null,
   "metadata": {},
   "outputs": [],
   "source": [
    "def valor_dadon_1(n):\n",
    "    #Creamos una lista que enumere las N tiradas\n",
    "    valores = [1,2,3,4,5,6]\n",
    "    #Arreglo que señale el número de tiradas hasta el i-ésimo momento\n",
    "    numero=[i for i in range(1,n+1)]\n",
    "    #Lista donde se guardará el cociente\n",
    "    cociente=np.zeros((n,6))\n",
    "    #lista donde se anexarán los conteos de los resultados\n",
    "    resultados = np.zeros((n,6))\n",
    "    #Creamos los elementos para cada lista en la primera tirada\n",
    "    k = random.randint(1, 6)\n",
    "    resultados[0,k-1]=1\n",
    "    cociente[0,k-1]=1\n",
    "            \n",
    "    for i in range(1,n):\n",
    "        #tiramos los dados y obtenemos el valor\n",
    "        k = random.randint(1, 6)\n",
    "        #anexamos el valor\n",
    "        resultados[i,k-1] = resultados[i-1,k-1] + 1\n",
    "        cociente[i,k-1] = resultados[i,k-1]/i\n",
    "        j=0\n",
    "        if j!=k:\n",
    "            resultados[i,j-1] = resultados[i-1,j-1]\n",
    "            j +=1\n",
    "            cociente[i,j-1] = resultados[i,j-1]/i\n",
    "        else:\n",
    "            j += 1\n",
    "        \n",
    "    return [numero, resultados, cociente]\n",
    "    "
   ]
  },
  {
   "cell_type": "code",
   "execution_count": null,
   "metadata": {},
   "outputs": [],
   "source": [
    "def valor_dadon(n):\n",
    "    #Cifras significativas:\n",
    "    cifras = 2\n",
    "    #Creamos una lista que enumere las N tiradas\n",
    "    valores = [1,2,3,4,5,6]\n",
    "    #Arreglo que señale el número de tiradas, los conteos caras 1 al 6 y el cociente de cada cara 1 al 6 \n",
    "    RESULTADOS = np.zeros((n,1+6+6))\n",
    "    #Primeros valores\n",
    "    #Define la primer tirada\n",
    "    RESULTADOS[0,0]=int(1)\n",
    "    #Resultado de la primera tirada\n",
    "    k = int(random.randint(1, 6))\n",
    "    #\n",
    "    RESULTADOS[0,k] = int(1)\n",
    "    RESULTADOS[0,k+6] = int(1)\n",
    "    for i in range(1,n):\n",
    "        RESULTADOS[i,0] = int(i+1)\n",
    "        k = int(random.randint(1, 6))\n",
    "        RESULTADOS[i,k] = int(1 + RESULTADOS[i-1,k])\n",
    "        RESULTADOS[i,k+6] = round(RESULTADOS[i,k]/(i+1),cifras)\n",
    "        \n",
    "        for j in valores:\n",
    "            if j!=k:\n",
    "                RESULTADOS[i,j] = int(RESULTADOS[i-1,j])\n",
    "                RESULTADOS[i,j+6] = round(RESULTADOS[i-1,j]/(i+1),cifras)    \n",
    "    return RESULTADOS    "
   ]
  },
  {
   "cell_type": "code",
   "execution_count": null,
   "metadata": {},
   "outputs": [],
   "source": [
    "print(\" , \".join(str(x) for x in resultados[1,:]))"
   ]
  },
  {
   "cell_type": "code",
   "execution_count": null,
   "metadata": {},
   "outputs": [],
   "source": [
    "resultados2 = valor_dadon(15)\n",
    "resultados_cadena = []\n",
    "for i in range(0,10):\n",
    "    obj=\" , \".join(str(x) for x in resultados2[i,:])\n",
    "    resultados_cadena.append(obj)\n",
    "\n",
    "print(resultados_cadena[9])\n",
    "        "
   ]
  },
  {
   "cell_type": "code",
   "execution_count": null,
   "metadata": {},
   "outputs": [],
   "source": [
    "print(np.read.np.savetxt('matriz00.txt',resultados2))"
   ]
  },
  {
   "cell_type": "code",
   "execution_count": 10,
   "metadata": {},
   "outputs": [],
   "source": [
    "#Ahora la función que nos devuelva texto\n",
    "def valor_dadon_txt(n):\n",
    "    #Creamos una lista que enumere las N tiradas\n",
    "    valores = [1,2,3,4,5,6]\n",
    "    #Arreglo que señale el número de tiradas, los conteos caras 1 al 6 y el cociente de cada cara 1 al 6 \n",
    "    RESULTADOS = np.zeros((n+1,1+6+6))\n",
    "    #Primeros valores\n",
    "    #Define la primer tirada\n",
    "    RESULTADOS[1,0]=1\n",
    "    #Resultado de la primera tirada\n",
    "    k = random.randint(1, 6)\n",
    "    #\n",
    "    RESULTADOS[1,k] = 1\n",
    "    RESULTADOS[1,k+6] = 1\n",
    "    for i in range(2,n+1):\n",
    "        RESULTADOS[i,0] = int(i+1)\n",
    "        k = random.randint(1, 6)\n",
    "        RESULTADOS[i,k] = 1 + RESULTADOS[i-1,k]\n",
    "        RESULTADOS[i,k+6] = RESULTADOS[i,k]/(i+1)\n",
    "        \n",
    "        for j in valores:\n",
    "            if j!=k:\n",
    "                RESULTADOS[i,j] = RESULTADOS[i-1,j]\n",
    "                RESULTADOS[i,j+6] = RESULTADOS[i-1,j]/(i+1)    \n",
    "    ARCHIVO = np.savetxt('simulación.txt',RESULTADOS,delimiter=' ',fmt='%1.4e')\n",
    "    return ARCHIVO    "
   ]
  },
  {
   "cell_type": "code",
   "execution_count": 11,
   "metadata": {},
   "outputs": [],
   "source": [
    "valor_dadon_txt(20)"
   ]
  },
  {
   "cell_type": "code",
   "execution_count": 9,
   "metadata": {},
   "outputs": [
    {
     "data": {
      "text/plain": [
       "array([2, 2, 4, 4])"
      ]
     },
     "execution_count": 9,
     "metadata": {},
     "output_type": "execute_result"
    }
   ],
   "source": [
    "np.concatenate((np.array([2,2]),np.array([4,4])))"
   ]
  },
  {
   "cell_type": "markdown",
   "metadata": {},
   "source": [
    "# Problema 8\n",
    "\n",
    "Dada la lista ordenada [2, 5, 6, 8, 9, 10], una rotación es tomar el último elemento y desplazarlo al inicio de la lista quedando [10, 2, 5, 6, 8, 9]. Por ejemplo: la lista [8, 9, 10, 2, 5, 6] fue rotada 3 veces. Dada una lista rotada k veces, escribe una función que calcule el valor de $k$, es decir la cantidad de rotaciones o desplazamientos realizados a la lista. Puedes suponer que la lista no tiene elementos repetidos. "
   ]
  },
  {
   "cell_type": "code",
   "execution_count": null,
   "metadata": {},
   "outputs": [],
   "source": [
    "#lista1 lista sin rota\n",
    "#lista2 lista  rotada\n",
    "def num_rotaciones(lista1,lista2):\n",
    "    ultimo = lista1[-1]\n",
    "    \n",
    "    i=0\n",
    "    while lista2[i] == ultimo:\n",
    "        i +=1\n",
    "    return i"
   ]
  },
  {
   "cell_type": "code",
   "execution_count": null,
   "metadata": {},
   "outputs": [],
   "source": [
    "print(num_rotaciones([1,2,3],[,3,1]))"
   ]
  },
  {
   "cell_type": "markdown",
   "metadata": {},
   "source": [
    "# Problema 9\n",
    "\n",
    "Una forma de aproximar $\\pi$ dada la sección ubicada en el primer cuadrante del circulo unitario.\n",
    "\n",
    "Escribe una función que genere los valores pseudoaleatorios (x,y) con distribución uniforme dentro del intervalo (0, 1), independiente un valor del otro. Si se tiene que $y \\leq \\sqrt{1 − x^2}$, entonces el punto (x,y) está dentro del cuarto de círculo. En caso contrario se considera un fracaso. Así, al repetir varias veces este procedimiento, el cociente del número de éxitos $n_E$ entre el número de ensayos $n$ será una aproximación del área de la región. Siendo una cuarta parte del círculo unitario, su área es $\\pi/4$. La función recibe como argumento el valor de $n$ y debe regresar el valor de la aproximación de $\\pi$. Para este ejercicio puedes utilizar la función uniform del modulo random de Python."
   ]
  },
  {
   "cell_type": "code",
   "execution_count": null,
   "metadata": {},
   "outputs": [],
   "source": []
  }
 ],
 "metadata": {
  "kernelspec": {
   "display_name": "Python 3",
   "language": "python",
   "name": "python3"
  },
  "language_info": {
   "codemirror_mode": {
    "name": "ipython",
    "version": 3
   },
   "file_extension": ".py",
   "mimetype": "text/x-python",
   "name": "python",
   "nbconvert_exporter": "python",
   "pygments_lexer": "ipython3",
   "version": "3.7.6"
  }
 },
 "nbformat": 4,
 "nbformat_minor": 4
}
